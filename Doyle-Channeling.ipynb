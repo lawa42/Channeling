{
 "cells": [
  {
   "cell_type": "markdown",
   "metadata": {},
   "source": [
    "# Reproduce channeling calculation from B. Doyle's excel file\n",
    "B. doyle has an excel file all calculations are based on this excel file which in turn seems to be based on the IBA Handbook."
   ]
  },
  {
   "cell_type": "markdown",
   "metadata": {},
   "source": [
    "##Lets define some inputs\n",
    "Probably these will need to be replaced by some data from files"
   ]
  },
  {
   "cell_type": "code",
   "execution_count": 76,
   "metadata": {
    "collapsed": false
   },
   "outputs": [],
   "source": [
    "%matplotlib inline\n",
    "from scipy.constants import *\n",
    "import matplotlib.pyplot as plt\n",
    "from numpy import *\n",
    "from mendeleev import element\n",
    "import pandas as pd"
   ]
  },
  {
   "cell_type": "markdown",
   "metadata": {},
   "source": [
    "Create a pandas data structure that holds some additional data about the elements"
   ]
  },
  {
   "cell_type": "markdown",
   "metadata": {},
   "source": [
    "The Depye temperatures (in kelvin) come from\n",
    "http://hyperphysics.phy-astr.gsu.edu/hbase/tables/thrcn2.html\n",
    "Which has taken the values from Kittel, Charles, Introduction to Solid State Physics, 7th Ed., Wiley, (1996)."
   ]
  },
  {
   "cell_type": "code",
   "execution_count": 77,
   "metadata": {
    "collapsed": false
   },
   "outputs": [],
   "source": [
    "Z=[i for i in range(element('Hydrogen').atomic_number,element('Uranium').atomic_number)]\n",
    "Symbol=dict(zip(Z,[element(i).symbol for i in range(element('Hydrogen').atomic_number,element('Uranium').atomic_number)]))\n",
    "Name=dict(zip(Z,[element(i).name for i in range(element('Hydrogen').atomic_number,element('Uranium').atomic_number)]))\n",
    "T_D2={3:344,4:1440,6:2230,10:75,\n",
    "      11:158,12:400,13:428,14:645,18:92,\n",
    "      19:91,20:230,21:360,22:420,23:380,24:630,25:410,26:470,27:445,28:450,29:343,30:327,31:320,32:374,33:282,34:90,36:72,\n",
    "      37:56,38:147,39:280,40:291,41:275,42:450,44:600,45:480,46:274,47:225,48:209,49:108,50:200,51:211,52:153,54:64,\n",
    "      55:38,56:110,57:142,64:200,66:210,70:120,71:210,72:252,73:240,74:400,75:430,76:500,77:420,78:240,79:165,80:71.9,81:78.5,82:105,83:119,86:64,\n",
    "      90:163,92:207\n",
    "     }\n",
    "Elements_data=pd.DataFrame({'Symbol': Symbol,'Name':Name,'T_D2':T_D2})"
   ]
  },
  {
   "cell_type": "code",
   "execution_count": 78,
   "metadata": {
    "collapsed": false
   },
   "outputs": [
    {
     "name": "stdout",
     "output_type": "stream",
     "text": [
      "FCC\n"
     ]
    }
   ],
   "source": [
    "Target=element('Au')\n",
    "Projectile=element('He')\n",
    "Z1= Projectile.atomic_number# He\n",
    "Z2=Target.atomic_number # Au\n",
    "Energy=300000 # V needs to be converted to J later on\n",
    "Orientation=100\n",
    "Temperature=293 # K\n",
    "crystal_structure=Target.lattice_structure\n",
    "print(crystal_structure)\n",
    "# Or use the following to override\n",
    "# Possible optiosn are FCC, BCC or DIA\n",
    "#crystal_structure='fcc'\n",
    "Miller={'h':1,'k':1,'l':1}"
   ]
  },
  {
   "cell_type": "code",
   "execution_count": 79,
   "metadata": {
    "collapsed": false
   },
   "outputs": [],
   "source": [
    "M2=Target.mass # amu\n",
    "Rho2=Target.density # g/cm³\n",
    "T_D2=Elements_data.get_value(Z2,'T_D2') # K\n",
    "# Our database contains 165 K for Au BD uses 170 K so we manually reset this for the moment\n",
    "T_D2=170\n",
    "M1=Projectile.mass # amu"
   ]
  },
  {
   "cell_type": "markdown",
   "metadata": {},
   "source": [
    "The following converts the lattice constant into the d spacing for the desired crystal orientation. this should work at least for the cubic ones. For this to work we read in the lattice factors given by BD."
   ]
  },
  {
   "cell_type": "code",
   "execution_count": 80,
   "metadata": {
    "collapsed": false
   },
   "outputs": [],
   "source": [
    "# These are the command used to crate the pickle data from BSs Excel file. The excel file has been saved as csv and scrubbed from useless cells by hand\n",
    "#diamond_lattice=pd.read_csv('diamond-lattice-factor.csv',usecols=(1,2,3,4,5,6),header=None,names=('h','k','l','# atoms','fa','fp'))\n",
    "#fcc_lattice=pd.read_csv('fcc-lattice-factor.csv',usecols=(1,2,3,4,5,6),header=None,names=('h','k','l','# atoms','fa','fp'))\n",
    "#bcc_lattice=pd.read_csv('bcc-lattice-factor.csv',usecols=(1,2,3,4,5,6),header=None,names=('h','k','l','# atoms','fa','fp'))\n",
    "#diamond_lattice.to_pickle('Diamond-lattice.pkl')\n",
    "#fcc_lattice.to_pickle('FCC-lattice.pkl')\n",
    "#bcc_lattice.to_pickle('BCC-latice.pkl')\n",
    "fcc_lattice=pd.read_pickle('FCC-lattice.pkl')\n",
    "bcc_lattice=pd.read_pickle('BCC-lattice.pkl')\n",
    "diamond_lattice=pd.read_pickle('Diamond-lattice.pkl')"
   ]
  },
  {
   "cell_type": "markdown",
   "metadata": {},
   "source": [
    "Now find fa and fb for the correct lattice type and orientation"
   ]
  },
  {
   "cell_type": "code",
   "execution_count": 81,
   "metadata": {
    "collapsed": false
   },
   "outputs": [
    {
     "name": "stdout",
     "output_type": "stream",
     "text": [
      "1.732050808 0.577350269\n"
     ]
    }
   ],
   "source": [
    "if crystal_structure=='FCC':\n",
    "    fa=fcc_lattice.loc[(fcc_lattice['h'] == Miller['h'])&(fcc_lattice['k'] == Miller['k'])&(fcc_lattice['l'] == Miller['l']),'fa'].iloc[0]\n",
    "    fp=fcc_lattice.loc[(fcc_lattice['h'] == Miller['h'])&(fcc_lattice['k'] == Miller['k'])&(fcc_lattice['l'] == Miller['l']),'fp'].iloc[0]\n",
    "    print(fa,fp)\n",
    "elif crystal_structure=='BCC':\n",
    "    fa=bcc_lattice.loc[(bcc_lattice['h'] == Miller['h'])&(bcc_lattice['k'] == Miller['k'])&(bcc_lattice['l'] == Miller['l']),'fa'].iloc[0]\n",
    "    fp=bcc_lattice.loc[(bcc_lattice['h'] == Miller['h'])&(bcc_lattice['k'] == Miller['k'])&(bcc_lattice['l'] == Miller['l']),'fp'].iloc[0]\n",
    "    print(fa,fp)\n",
    "elif crystal_structure=='DIA':\n",
    "    fa=diamond_lattice.loc[(diamond_lattice['h'] == Miller['h'])&(diamond_lattice['k'] == Miller['k'])&(diamond_lattice['l'] == Miller['l']),'fa'].iloc[0]\n",
    "    fp=diamond_lattice.loc[(diamond_lattice['h'] == Miller['h'])&(diamond_lattice['k'] == Miller['k'])&(diamond_lattice['l'] == Miller['l']),'fp'].iloc[0]\n",
    "    print(fa,fp)\n",
    "else:\n",
    "    print('The crystal structure '+crystal_structure+' is unkown.')\n"
   ]
  },
  {
   "cell_type": "code",
   "execution_count": 82,
   "metadata": {
    "collapsed": false
   },
   "outputs": [
    {
     "name": "stdout",
     "output_type": "stream",
     "text": [
      "7.06676729664\n"
     ]
    }
   ],
   "source": [
    "d=Target.lattice_constant*fa # in A\n",
    "print(d)"
   ]
  },
  {
   "cell_type": "markdown",
   "metadata": {},
   "source": [
    "# Calculate the TF screening length. \n",
    "According to BD this comes from the IBA handbook p645. Still need to figure out which IBA handbook he is refering to.\n",
    "He provides three different versions:\n",
    "$$a_1=0.04685(\\sqrt Z_1+\\sqrt Z_2)^{-2/3}$$ which he shortens to $a_{1s}=0.4685Z_2^{-1/3}$. According to BD $$a_{BD}=0.04685(Z_1^{2/3}+Z_2^{2/3})^{-1/2}$$ provides better results. There is an issue here with the values he quotes (0.04684) and what he uses for calculations (0.4685). Which is closer to the actual value of $a_0=0.4692$.\n",
    "My own version would be the Thomas Fermi screening length from Nastasi book equ. 4.3\n",
    "$$a_{TF}=\\frac{0.885 a_0}{(Z_1^{1/2}+Z_2^{1/2})^{2/3}}$$\n",
    "where $a_0=0.053$nm is the Bohrradius.\n",
    "\n",
    "BD uses Angstrom for the Bohr Radius and not nm."
   ]
  },
  {
   "cell_type": "code",
   "execution_count": 83,
   "metadata": {
    "collapsed": false
   },
   "outputs": [
    {
     "name": "stdout",
     "output_type": "stream",
     "text": [
      "aBD = 0.10493 nm\n"
     ]
    }
   ],
   "source": [
    "a0=(9*pi**2/128)**(1./3.)*0.53\n",
    "a1=0.4685*(sqrt(Z1)+sqrt(Z2))**(-2./3.)\n",
    "a1s=0.4685*Z2**(-1./3.)\n",
    "aBD=a0*(Z1**(2./3.)+Z2**(2./3.))**(-1./2.)\n",
    "Bohr_radius=codata.value('Bohr radius')\n",
    "aTF=0.885*Bohr_radius/(Z1**(0.5)+Z2**(0.5))**(2./3.)\n",
    "print ('aBD = {0:.5f} nm' .format(aBD)) # we go with the BD value for now"
   ]
  },
  {
   "cell_type": "markdown",
   "metadata": {
    "collapsed": true
   },
   "source": [
    "Next is the Debye function it seems it is based on p467 from the mysterious black IBA book. Equation A15.2 from this book (?) provides the factor \n",
    "$$u_1=12.1\\left(\\left(\\frac{\\Phi_D(x\")}{x\"}+0.25\\right)\\left(\\frac{1}{M_2\\Theta_D}\\right)\\right)^{1/2}$$\n",
    "where $\\Phi_D=ae^{-x\"/b}$ with $b=4.3$, $a=1$ and $x\"=\\frac{\\Theta_D}{T}$. There is a prefactor that I do not understand but the result is Angstrom."
   ]
  },
  {
   "cell_type": "code",
   "execution_count": 84,
   "metadata": {
    "collapsed": false
   },
   "outputs": [
    {
     "name": "stdout",
     "output_type": "stream",
     "text": [
      "Phi_D = 0.87378\n",
      "u1 = 0.08762 A\n"
     ]
    }
   ],
   "source": [
    "a=1\n",
    "b=4.3\n",
    "x2=T_D2/Temperature\n",
    "PhiD=a*exp(-x2/b)\n",
    "print('Phi_D = {0:.5f}' .format(PhiD))\n",
    "u1=12.1*((PhiD/x2+0.25)*(1./(M2*T_D2)))**0.5\n",
    "print('u1 = {0:.5f} A' .format(u1))"
   ]
  },
  {
   "cell_type": "markdown",
   "metadata": {},
   "source": [
    "Now we can calculate $$\\Psi_1=\\sqrt\\frac{2Z_1Z_2e^2}{4\\pi\\epsilon_0Ed}$$ in rad. As usual in his excel sheet 4$\\pi\\epsilon_0$ are missing."
   ]
  },
  {
   "cell_type": "code",
   "execution_count": 85,
   "metadata": {
    "collapsed": false
   },
   "outputs": [
    {
     "name": "stdout",
     "output_type": "stream",
     "text": [
      "Psi1 = 2.65443°\n"
     ]
    }
   ],
   "source": [
    "q=codata.value('elementary charge')\n",
    "eps_0=codata.value('electric constant')\n",
    "psi1=sqrt((2*Z1*Z2*q**2)/((4*pi*eps_0)*Energy*q*d*1e-10))\n",
    "print('Psi1 = {0:.5f}°'.format(degrees(psi1)))"
   ]
  },
  {
   "cell_type": "markdown",
   "metadata": {},
   "source": [
    "Next depending on the ratio $a_{TF}/d$ to $\\Psi_1$ we calculate $\\Psi_{1/2}$\n",
    "If $$\\Psi_1(rad)<\\frac{a_TF}{d}\\ldots\\Psi_{1/2}=0.87F_{RS}(x')\\Psi_1$$ \n",
    "or\n",
    "$$\\Psi_1(rad)>\\frac{a_TF}{d}\\ldots\\Psi_{1/2}=7.57\\sqrt\\frac{a_{TF}\\Psi_1}{d}$$\n",
    "with $a=1.9$, $b=1.2$ and $c=0.53$ and \n",
    "$$x'=1.2\\frac{u_1}{a_{TF}}$$ and \n",
    "$$F_{RS}(x')=ae^{-\\frac{x'^c}{b}}$$"
   ]
  },
  {
   "cell_type": "code",
   "execution_count": 86,
   "metadata": {
    "collapsed": false
   },
   "outputs": [
    {
     "name": "stdout",
     "output_type": "stream",
     "text": [
      "x' = 1.00212\n",
      "0.824964027463\n"
     ]
    }
   ],
   "source": [
    "a=1.9\n",
    "b=1.2\n",
    "c=0.53\n",
    "x1=1.2*u1/aBD # u1 is in angstrom so we need to do the same for aTF. for the moment we will stick to a0\n",
    "FRS=a*exp(-(x1**c/b))\n",
    "print('x\\' = {:0.5f}'.format(x1))\n",
    "print(FRS)"
   ]
  },
  {
   "cell_type": "code",
   "execution_count": 87,
   "metadata": {
    "collapsed": false
   },
   "outputs": [
    {
     "name": "stdout",
     "output_type": "stream",
     "text": [
      "Psi 1/2 = 1.50284\n"
     ]
    }
   ],
   "source": [
    "if psi1<aBD/d: # again we use aBd; this compares to the radian value\n",
    "    psi12=0.87*FRS*degrees(psi1) #here we use degree for psi1\n",
    "else:\n",
    "    psi12=7.57*sqrt(aBD*degrees(psi1)/d) #here we use degree for psi1\n",
    "print('Psi 1/2 = {:0.5f}'.format(psi12))"
   ]
  },
  {
   "cell_type": "markdown",
   "metadata": {},
   "source": [
    "Lets do the same for the planar channeling. Most of the stuff is already in place, and can be reused from above. We strat with calculating the new interplanar spacing $d$."
   ]
  },
  {
   "cell_type": "code",
   "execution_count": 89,
   "metadata": {
    "collapsed": false
   },
   "outputs": [
    {
     "name": "stdout",
     "output_type": "stream",
     "text": [
      "2.35558909752\n"
     ]
    }
   ],
   "source": [
    "d=Target.lattice_constant*fp\n",
    "print(d)"
   ]
  },
  {
   "cell_type": "markdown",
   "metadata": {},
   "source": [
    "To calculate the planar channeling angle \n",
    "$$\\Psi_a=0.545\\sqrt{\\frac{Z_1Z_2Nd_Pa_{TF}}{E}}$$ \n",
    "in degrees we need the number of atomic density \n",
    "$$N=\\frac{\\rho NA}{M_2}$$ in $atoms/\\angstrom^2$."
   ]
  },
  {
   "cell_type": "code",
   "execution_count": 101,
   "metadata": {
    "collapsed": false
   },
   "outputs": [
    {
     "name": "stdout",
     "output_type": "stream",
     "text": [
      "Psi_a = 1.51048°\n"
     ]
    }
   ],
   "source": [
    "N=1e-24*Rho2*codata.value('Avogadro constant')/M2 #atoms/A³\n",
    "Psi_a=0.545*sqrt((Z1*Z2*N*d*aBD)/(Energy*1e-6)) # The enrgy needs to be in MeV\n",
    "print('Psi_a = {:0.5f}'.format(Psi_a)+'°')"
   ]
  },
  {
   "cell_type": "markdown",
   "metadata": {},
   "source": [
    "Now again some stuff that needs to be checked with the black IBA handbook. $$x'=1.6\\frac{u_1}{a_{TF}}$$\n",
    "and\n",
    "$$y'=\\frac{d_P}{a_{TF}}$$. \n",
    "Th latter it seems comes from figA15.3."
   ]
  },
  {
   "cell_type": "code",
   "execution_count": 105,
   "metadata": {
    "collapsed": false
   },
   "outputs": [
    {
     "name": "stdout",
     "output_type": "stream",
     "text": [
      "1.33616055051\n",
      "22.4498748399\n"
     ]
    }
   ],
   "source": [
    "x1=1.6*u1/aBD\n",
    "print(x1)\n",
    "y1=d/aBD\n",
    "print(y1)"
   ]
  },
  {
   "cell_type": "markdown",
   "metadata": {},
   "source": [
    "Next we calculate \n",
    "$$FPS=FPS_oe^{-\\frac{x'^p}{a}}$$\n",
    "where \n",
    "$$a=4.3\\left(1-e^{-\\frac{y'^{1.1}}{12}}\\right)$$,\n",
    "$$p=0.4e^{\\frac{-y'}{12}}+0.85$$\n",
    "and\n",
    "$$FPS_o=1.27\\left(1-e^{-\\frac{y'{0.76}}{3}}\\right)$$."
   ]
  }
 ],
 "metadata": {
  "kernelspec": {
   "display_name": "Python 3",
   "language": "python",
   "name": "python3"
  },
  "language_info": {
   "codemirror_mode": {
    "name": "ipython",
    "version": 3
   },
   "file_extension": ".py",
   "mimetype": "text/x-python",
   "name": "python",
   "nbconvert_exporter": "python",
   "pygments_lexer": "ipython3",
   "version": "3.5.1"
  }
 },
 "nbformat": 4,
 "nbformat_minor": 0
}
