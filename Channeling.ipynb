{
 "cells": [
  {
   "cell_type": "code",
   "execution_count": 2,
   "metadata": {
    "collapsed": false
   },
   "outputs": [],
   "source": [
    "from numpy import *\n",
    "from scitools.easyviz.matplotlib_ import *\n",
    "from math import log as ln\n",
    "from scipy.constants import *"
   ]
  },
  {
   "cell_type": "code",
   "execution_count": 55,
   "metadata": {
    "collapsed": false
   },
   "outputs": [],
   "source": [
    "Z1=2 #He\n",
    "Z2=14 #Z2\n",
    "d=0.384e-9 #spacing in Si\n",
    "#d=0.288e-9 #spacing for gold and silver 110 \n",
    "#\n",
    "r=0.01e-9 # closest approach of the ion\n",
    "#\n",
    "# some factors I copy from Nastasi book page 176\n",
    "C=sqrt(3) # defined as C^2=3 on top of page 176\n",
    "J_to_eV=1/e"
   ]
  },
  {
   "cell_type": "markdown",
   "metadata": {},
   "source": [
    "Thomas Fermi screening length from Nastasi book equ. 4.3\n",
    "$$a_{TF}=\\frac{0.885 a_0}{(Z_1^{1/2}+Z_2^{1/2})^{2/3}}$$\n",
    "where $a_0=0.053$nm is the Bohrradius"
   ]
  },
  {
   "cell_type": "code",
   "execution_count": 63,
   "metadata": {
    "collapsed": false
   },
   "outputs": [
    {
     "name": "stdout",
     "output_type": "stream",
     "text": [
      "a = 0.0157 nm\n"
     ]
    }
   ],
   "source": [
    "# We need the Thomas Fermi Screening distance from equ. 4.3 in the same book\n",
    "a0=codata.value('Bohr radius')\n",
    "a=0.885*a0/(Z1**(0.5)+Z2**(0.5))**(2./3.)\n",
    "print 'a = %.3g nm' %(a*1e9)"
   ]
  },
  {
   "cell_type": "markdown",
   "metadata": {},
   "source": [
    "Equation 9.3 in the Nastase book gives the potential along the string for axial channeling.\n",
    "$$U_a(r)=\\frac{Z_1Z_2e^2}{4\\pi\\epsilon_0d}\\ln\\left[\\left(\\frac{Ca_{TF}}{r}\\right)^2+1\\right]$$\n",
    "In Lindhards paper and also in Nastase book the somehow omit the $4\\pi\\epsilon_0$"
   ]
  },
  {
   "cell_type": "code",
   "execution_count": 64,
   "metadata": {
    "collapsed": false
   },
   "outputs": [
    {
     "name": "stdout",
     "output_type": "stream",
     "text": [
      "Ua = 223.3\n"
     ]
    }
   ],
   "source": [
    "Ua=((Z1*Z2*e**2)/(4*pi*d*epsilon_0))*ln((C*a/r)**2+1) # in SI Joules\n",
    "print 'Ua = %.5g' %(Ua*J_to_eV)"
   ]
  },
  {
   "cell_type": "markdown",
   "metadata": {},
   "source": [
    "Let's calculate the critical angle which is given by the following equations (9.8) in Nastase:\n",
    "\n",
    "$$\\Psi_1=\\sqrt{\\frac{U_a(r_{min})}{E}}$$\n",
    "\n",
    "(9.9) and (9.10) would be better but for this we need debeywaller factors and calculate the statistical fluctuations."
   ]
  },
  {
   "cell_type": "code",
   "execution_count": 65,
   "metadata": {
    "collapsed": false
   },
   "outputs": [
    {
     "name": "stdout",
     "output_type": "stream",
     "text": [
      "Psi_1 = 4.94\n"
     ]
    }
   ],
   "source": [
    "E=30000 #energy of Z1 in eV\n",
    "psi_1=(Ua*J_to_eV/E)**(1./2.)\n",
    "print 'Psi_1 = %.3g' %(psi_1*1/degree)"
   ]
  },
  {
   "cell_type": "markdown",
   "metadata": {},
   "source": [
    "Once \n",
    "$$E<E'=\\frac{2Z_1Z_2e^2}{4\\pi\\epsilon_0}\\frac{d}{a^2}$$ \n",
    "we have to use \n",
    "$$\\psi_2=\\left(\\frac{Ca}{d\\sqrt{2}}\\psi_1\\right)^{1/2}$$"
   ]
  },
  {
   "cell_type": "code",
   "execution_count": 66,
   "metadata": {
    "collapsed": false
   },
   "outputs": [
    {
     "name": "stdout",
     "output_type": "stream",
     "text": [
      "E_crit = 1.26e+05\n",
      "Psi_2 = 3.76\n"
     ]
    }
   ],
   "source": [
    "E_crit=(2.*Z1*Z2*e**2)/(4.*pi*epsilon_0)*d/(a**2)\n",
    "print 'E_crit = %.3g' %(E_crit*J_to_eV)\n",
    "psi_2=(C*a/(d*2**(1./2.))*psi_1)**(1./2.)\n",
    "print 'Psi_2 = %.3g' %(psi_2*1/degree)"
   ]
  },
  {
   "cell_type": "markdown",
   "metadata": {},
   "source": [
    "# Shadow cone for Ag and Pt"
   ]
  },
  {
   "cell_type": "markdown",
   "metadata": {},
   "source": [
    "WE use the shadow cone of Ag to find out if it is larger than the channel into the Pt and we therefore completely compress channeling or to which extend the cahnnel would be reduced. Stuff from the IBA handbook. page 284 equ. 10.38\n",
    "$$R_c=2\\left(\\frac{Z_1Z_2e^2d}{4\\pi\\epsilon_0E}\\right)^{1/2}$$\n",
    "(again this equation needs to be modified to be correct in SI\n",
    "and 10.39 on page 288\n",
    "$$N=1+\\left(1+\\frac{R^2}{2u_2^2}\\right)\\exp\\left(\\frac{-R^2}{2u_2^2}\\right)$$"
   ]
  },
  {
   "cell_type": "code",
   "execution_count": 13,
   "metadata": {
    "collapsed": false
   },
   "outputs": [
    {
     "name": "stdout",
     "output_type": "stream",
     "text": [
      "Rc = 0.0935 nm\n",
      "Rc2 = 0.132 nm\n"
     ]
    }
   ],
   "source": [
    "Rc=2*((Z1*Z2*e**2*d)/(4*pi*epsilon_0*E/J_to_eV))**0.5 # E needs to be converted from eV to J thats waht the 1/J_to_eV does\n",
    "print 'Rc = %.3g' %(Rc*1e9), 'nm'\n",
    "print 'Rc2 = %.3g' %(Rc*1e9*2**(1./2.)), 'nm' # This is the diameter for the third atom (2d away from the surface) in the string"
   ]
  },
  {
   "cell_type": "markdown",
   "metadata": {
    "collapsed": true
   },
   "source": [
    "The vibrational amplitude for Pt at RT is $u_1=0.0066$nm (from IBA Handbook, A15.3 The two dimensional vibration amplitude is than given by: $u_2=\\sqrt{2}u_1$ "
   ]
  },
  {
   "cell_type": "code",
   "execution_count": 14,
   "metadata": {
    "collapsed": false
   },
   "outputs": [
    {
     "name": "stdout",
     "output_type": "stream",
     "text": [
      "u2 = 0.0123 nm\n"
     ]
    }
   ],
   "source": [
    "u1=0.0066e-9 # m for Pt at RT\n",
    "u1=0.0087e-9 # m at RT for Au\n",
    "u2=2**(1./2.)*u1\n",
    "print \"u2 = %.3g nm\" %(u2*1e9)"
   ]
  },
  {
   "cell_type": "markdown",
   "metadata": {},
   "source": [
    "The surface peak area (in atoms per row) for an overlayer is than given by\n",
    "$$N=1+\\left(1+\\frac{R_c^2}{2u_2^2}\\right)\\exp{\\left(\\frac{-R_c^2}{2u_2^2}\\right)}.$$ this equation is from the IBa handbook page 288 10.39 and can also be found in Feldman1977 for $I_2$.\n",
    "Most likely not correct we still use $R_{c2}$ which is the shadow cone at the second atom."
   ]
  },
  {
   "cell_type": "code",
   "execution_count": 15,
   "metadata": {
    "collapsed": false
   },
   "outputs": [
    {
     "name": "stdout",
     "output_type": "stream",
     "text": [
      "N = 1\n"
     ]
    }
   ],
   "source": [
    "N=1.+(1.+(Rc*2**(1./2.))**2/(2*u2**2))*exp(-(Rc*2**(1./2.))**2/(2*u2**2))\n",
    "print \"N = %.3g\" %N"
   ]
  },
  {
   "cell_type": "markdown",
   "metadata": {},
   "source": [
    "For $N=1$ only one atom per row is seen by the beam. (see IBA handbook page 288 fig. 10.42)\n",
    "Hoewver, in our case the third atom is in the middle of the channel and the result must be reached in a different way."
   ]
  },
  {
   "cell_type": "markdown",
   "metadata": {},
   "source": [
    "The minimum yield (depth of the channeling minima) is given by $$\\chi_h^{<uvw>}=Nd\\pi\\left(u_2^2+a^2\\right)$$"
   ]
  },
  {
   "cell_type": "code",
   "execution_count": 18,
   "metadata": {
    "collapsed": false
   },
   "outputs": [
    {
     "name": "stdout",
     "output_type": "stream",
     "text": [
      "Chi_h =  0.0378\n"
     ]
    }
   ],
   "source": [
    "n=4 # atoms per unit cell (fcc: 4)\n",
    "N=n/d**3\n",
    "chi_h=N*d*pi*(u2**2+a**2)\n",
    "print \"Chi_h =  %.3g\" %chi_h"
   ]
  },
  {
   "cell_type": "markdown",
   "metadata": {},
   "source": [
    "Fläche parallelogram: $ab\\sin\\beta$ For Pt 111 surface unit cell $a=b=d=0.288$nm, $\\beta=120$. The number of atoms in this area is either 2 or 4 depending on fcc or hcp stacking.\n",
    "The adiitional area blocked bythe Ag atoms at the first Pt layer is $2R_{c2}^2\\pi$ because we have two additional atoms. This gives an additional fraction of the blocked area due to the adlayer $$\\chi_{al}=\\frac{2R_{c2}^2\\pi}{d^2\\sin\\beta}$$"
   ]
  },
  {
   "cell_type": "code",
   "execution_count": 16,
   "metadata": {
    "collapsed": false
   },
   "outputs": [
    {
     "name": "stdout",
     "output_type": "stream",
     "text": [
      "Chiad = 2.28\n"
     ]
    }
   ],
   "source": [
    "chiad=2*(Rc*2**(1./2.))**2*pi/(d**2*sin(120))\n",
    "print \"Chiad = %.3g\" %chiad"
   ]
  },
  {
   "cell_type": "markdown",
   "metadata": {
    "collapsed": true
   },
   "source": [
    "# New attempt"
   ]
  },
  {
   "cell_type": "markdown",
   "metadata": {},
   "source": [
    "We calculate $\\chi_h$ for two situations. One would be the clean Pt unticell. the other the Pt unitcel with the Ag atoms added into the same plane. To first order this should giev a factor of two as the total unitcell contains twice as many atoms as the clean unitcell. However, strictly speaking we need to consider the different a and u values as well. The contrast measured as the ration is than given by\n",
    "$$\\frac{\\chi_{Pt}}{\\chi_{Pt+Ag}}=\\frac{\\chi_{Pt}}{\\chi_{Pt}+\\chi_{Ag}}=1+\\frac{\\chi_{Pt}}{\\chi_{Ag}}$$ \n",
    "where \n",
    "$$\\chi_h^{<uvw>}=Nd\\pi\\left(u_2^2+a^2\\right)$$.\n",
    "\n",
    "As a part of $\\chi_{Pt}$ is overlapping with $\\chi_{Ag}$ the sum of the two is larger than one as for the full film stack we overestimate $\\chi_{Pt}$. The number density and the unit cell is identical for Ag and Pt so the prefactor is the same for Ag and Pt and we are left with \n",
    "$$C=\\frac{\\chi_{Pt}}{\\chi_{Pt+Ag}}=1+\\frac{u_{Pt_2}^2+a_{Pt}^2}{u_{Ag_2}^2+a_{Ag}^2}$$."
   ]
  },
  {
   "cell_type": "code",
   "execution_count": 19,
   "metadata": {
    "collapsed": false
   },
   "outputs": [
    {
     "name": "stdout",
     "output_type": "stream",
     "text": [
      "C = 1.61\n"
     ]
    }
   ],
   "source": [
    "ZHe=2\n",
    "ZAg=47\n",
    "ZPt=78\n",
    "aPt=0.885*a0/(ZHe**(0.5)+ZPt**(0.5))**(2./3.)\n",
    "aAg=0.885*a0/(ZHe**(0.5)+ZAg**(0.5))**(2./3.)\n",
    "uPt=0.0066e-9 # from IBa handbook A15.3\n",
    "uAg=0.0093e-9 # from IBa handbook A15.3\n",
    "uPt2=2**(1./2.)*uPt\n",
    "uAg2=2**(1./2.)*uAg\n",
    "C=1+(uPt2**2+aPt**2)/(uAg2**2+aAg**2)\n",
    "print \"C = %.3g\" %C"
   ]
  },
  {
   "cell_type": "code",
   "execution_count": null,
   "metadata": {
    "collapsed": true
   },
   "outputs": [],
   "source": []
  }
 ],
 "metadata": {
  "kernelspec": {
   "display_name": "Python 3",
   "language": "python",
   "name": "python3"
  },
  "language_info": {
   "codemirror_mode": {
    "name": "ipython",
    "version": 3
   },
   "file_extension": ".py",
   "mimetype": "text/x-python",
   "name": "python",
   "nbconvert_exporter": "python",
   "pygments_lexer": "ipython3",
   "version": "3.5.1"
  }
 },
 "nbformat": 4,
 "nbformat_minor": 0
}
